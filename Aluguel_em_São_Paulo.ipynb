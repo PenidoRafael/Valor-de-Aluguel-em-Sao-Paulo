{
  "nbformat": 4,
  "nbformat_minor": 0,
  "metadata": {
    "colab": {
      "provenance": [],
      "toc_visible": true,
      "authorship_tag": "ABX9TyME83MQR9A8XS4ap3ucAgsR",
      "include_colab_link": true
    },
    "kernelspec": {
      "name": "python3",
      "display_name": "Python 3"
    },
    "language_info": {
      "name": "python"
    }
  },
  "cells": [
    {
      "cell_type": "markdown",
      "metadata": {
        "id": "view-in-github",
        "colab_type": "text"
      },
      "source": [
        "<a href=\"https://colab.research.google.com/github/PenidoRafael/Valor-de-Aluguel-em-Sao-Paulo/blob/main/Aluguel_em_S%C3%A3o_Paulo.ipynb\" target=\"_parent\"><img src=\"https://colab.research.google.com/assets/colab-badge.svg\" alt=\"Open In Colab\"/></a>"
      ]
    },
    {
      "cell_type": "markdown",
      "source": [
        "# Um Estudo Sobre o Preço de Aluguel em São Paulo"
      ],
      "metadata": {
        "id": "l4XtFrAaWYeW"
      }
    },
    {
      "cell_type": "markdown",
      "source": [
        "**Autor**: Rafael Penido Soares\n",
        "\n",
        "Este é um estudo a respeito dos preços de aluguel em São Paulo. Nosso objetivo aqui é, ao final desta análise, conseguir prever o valor de um aluguel dadas algumas características. Claro, ao longo do estudo, espero também que nós consigamos flagrar várias relações interessantes e inesperadas entre os preços e tudo aquilo que pode defini-lo.\n",
        "\n",
        "Antes de começarmos, dois aviso são importante: primeiro, este estudo é um projeto puramente pessoal, isto é, não tem caráter profissional ou acadêmico e, por isso, não tenho a intenção de desenvolver previsões completamente assertivas, mas sim apenas desenvolver minhas técnicas, treinar e prosseguir com meu aprendizado na área de Machine Learning(o que não quer dizer que este notebook não valoriza precisão nas previsões). Em segundo lugar, como o objetivo aqui é justamente desenvolver a qualidade dos meus estudos, qualquer crítica e sujestão são muito bem vindas e podem ser enviadas a mim através de qualquer canal, como o próprio github.   "
      ],
      "metadata": {
        "id": "5rRPXGLSQwbw"
      }
    },
    {
      "cell_type": "markdown",
      "source": [
        "#Setup\n",
        "\n",
        "Primeiro, vamos preparar o ambiente e obter os dados."
      ],
      "metadata": {
        "id": "SKpfRJDG2ih1"
      }
    },
    {
      "cell_type": "code",
      "source": [
        "import matplotlib.pyplot as plt\n",
        "import numpy as np\n",
        "import os\n",
        "\n",
        "# To plot pretty figures\n",
        "%matplotlib inline\n",
        "import matplotlib as mpl\n",
        "mpl.rc('axes', labelsize=14)\n",
        "mpl.rc('xtick', labelsize=12)\n",
        "mpl.rc('ytick', labelsize=12)"
      ],
      "metadata": {
        "id": "HrCNxnRJ3PjM"
      },
      "execution_count": null,
      "outputs": []
    },
    {
      "cell_type": "code",
      "source": [
        "import pandas as pd\n",
        "\n",
        "#To get the data\n",
        "housing = pd.read_csv(\"/content/sao-paulo-properties.csv\")"
      ],
      "metadata": {
        "id": "zILjSlws3U3P"
      },
      "execution_count": null,
      "outputs": []
    },
    {
      "cell_type": "markdown",
      "source": [
        "#Analisando a Estrutura de Dados"
      ],
      "metadata": {
        "id": "1QJKdJC33ccy"
      }
    },
    {
      "cell_type": "code",
      "source": [
        "housing.head()"
      ],
      "metadata": {
        "colab": {
          "base_uri": "https://localhost:8080/",
          "height": 206
        },
        "id": "u3FOaJbW4TY4",
        "outputId": "bbddb496-ab55-4665-8f2b-9135f5fa5ec5"
      },
      "execution_count": null,
      "outputs": [
        {
          "output_type": "execute_result",
          "data": {
            "text/plain": [
              "   Price  Condo  Size  Rooms  Toilets  Suites  Parking  Elevator  Furnished  \\\n",
              "0    930    220    47      2        2       1        1         0          0   \n",
              "1   1000    148    45      2        2       1        1         0          0   \n",
              "2   1000    100    48      2        2       1        1         0          0   \n",
              "3   1000    200    48      2        2       1        1         0          0   \n",
              "4   1300    410    55      2        2       1        1         1          0   \n",
              "\n",
              "   Swimming Pool  New               District Negotiation Type Property Type  \\\n",
              "0              0    0  Artur Alvim/São Paulo             rent     apartment   \n",
              "1              0    0  Artur Alvim/São Paulo             rent     apartment   \n",
              "2              0    0  Artur Alvim/São Paulo             rent     apartment   \n",
              "3              0    0  Artur Alvim/São Paulo             rent     apartment   \n",
              "4              0    0  Artur Alvim/São Paulo             rent     apartment   \n",
              "\n",
              "    Latitude  Longitude  \n",
              "0 -23.543138 -46.479486  \n",
              "1 -23.550239 -46.480718  \n",
              "2 -23.542818 -46.485665  \n",
              "3 -23.547171 -46.483014  \n",
              "4 -23.525025 -46.482436  "
            ],
            "text/html": [
              "\n",
              "  <div id=\"df-f5bb951f-e9e4-4d02-a3d4-591919d328a4\">\n",
              "    <div class=\"colab-df-container\">\n",
              "      <div>\n",
              "<style scoped>\n",
              "    .dataframe tbody tr th:only-of-type {\n",
              "        vertical-align: middle;\n",
              "    }\n",
              "\n",
              "    .dataframe tbody tr th {\n",
              "        vertical-align: top;\n",
              "    }\n",
              "\n",
              "    .dataframe thead th {\n",
              "        text-align: right;\n",
              "    }\n",
              "</style>\n",
              "<table border=\"1\" class=\"dataframe\">\n",
              "  <thead>\n",
              "    <tr style=\"text-align: right;\">\n",
              "      <th></th>\n",
              "      <th>Price</th>\n",
              "      <th>Condo</th>\n",
              "      <th>Size</th>\n",
              "      <th>Rooms</th>\n",
              "      <th>Toilets</th>\n",
              "      <th>Suites</th>\n",
              "      <th>Parking</th>\n",
              "      <th>Elevator</th>\n",
              "      <th>Furnished</th>\n",
              "      <th>Swimming Pool</th>\n",
              "      <th>New</th>\n",
              "      <th>District</th>\n",
              "      <th>Negotiation Type</th>\n",
              "      <th>Property Type</th>\n",
              "      <th>Latitude</th>\n",
              "      <th>Longitude</th>\n",
              "    </tr>\n",
              "  </thead>\n",
              "  <tbody>\n",
              "    <tr>\n",
              "      <th>0</th>\n",
              "      <td>930</td>\n",
              "      <td>220</td>\n",
              "      <td>47</td>\n",
              "      <td>2</td>\n",
              "      <td>2</td>\n",
              "      <td>1</td>\n",
              "      <td>1</td>\n",
              "      <td>0</td>\n",
              "      <td>0</td>\n",
              "      <td>0</td>\n",
              "      <td>0</td>\n",
              "      <td>Artur Alvim/São Paulo</td>\n",
              "      <td>rent</td>\n",
              "      <td>apartment</td>\n",
              "      <td>-23.543138</td>\n",
              "      <td>-46.479486</td>\n",
              "    </tr>\n",
              "    <tr>\n",
              "      <th>1</th>\n",
              "      <td>1000</td>\n",
              "      <td>148</td>\n",
              "      <td>45</td>\n",
              "      <td>2</td>\n",
              "      <td>2</td>\n",
              "      <td>1</td>\n",
              "      <td>1</td>\n",
              "      <td>0</td>\n",
              "      <td>0</td>\n",
              "      <td>0</td>\n",
              "      <td>0</td>\n",
              "      <td>Artur Alvim/São Paulo</td>\n",
              "      <td>rent</td>\n",
              "      <td>apartment</td>\n",
              "      <td>-23.550239</td>\n",
              "      <td>-46.480718</td>\n",
              "    </tr>\n",
              "    <tr>\n",
              "      <th>2</th>\n",
              "      <td>1000</td>\n",
              "      <td>100</td>\n",
              "      <td>48</td>\n",
              "      <td>2</td>\n",
              "      <td>2</td>\n",
              "      <td>1</td>\n",
              "      <td>1</td>\n",
              "      <td>0</td>\n",
              "      <td>0</td>\n",
              "      <td>0</td>\n",
              "      <td>0</td>\n",
              "      <td>Artur Alvim/São Paulo</td>\n",
              "      <td>rent</td>\n",
              "      <td>apartment</td>\n",
              "      <td>-23.542818</td>\n",
              "      <td>-46.485665</td>\n",
              "    </tr>\n",
              "    <tr>\n",
              "      <th>3</th>\n",
              "      <td>1000</td>\n",
              "      <td>200</td>\n",
              "      <td>48</td>\n",
              "      <td>2</td>\n",
              "      <td>2</td>\n",
              "      <td>1</td>\n",
              "      <td>1</td>\n",
              "      <td>0</td>\n",
              "      <td>0</td>\n",
              "      <td>0</td>\n",
              "      <td>0</td>\n",
              "      <td>Artur Alvim/São Paulo</td>\n",
              "      <td>rent</td>\n",
              "      <td>apartment</td>\n",
              "      <td>-23.547171</td>\n",
              "      <td>-46.483014</td>\n",
              "    </tr>\n",
              "    <tr>\n",
              "      <th>4</th>\n",
              "      <td>1300</td>\n",
              "      <td>410</td>\n",
              "      <td>55</td>\n",
              "      <td>2</td>\n",
              "      <td>2</td>\n",
              "      <td>1</td>\n",
              "      <td>1</td>\n",
              "      <td>1</td>\n",
              "      <td>0</td>\n",
              "      <td>0</td>\n",
              "      <td>0</td>\n",
              "      <td>Artur Alvim/São Paulo</td>\n",
              "      <td>rent</td>\n",
              "      <td>apartment</td>\n",
              "      <td>-23.525025</td>\n",
              "      <td>-46.482436</td>\n",
              "    </tr>\n",
              "  </tbody>\n",
              "</table>\n",
              "</div>\n",
              "      <button class=\"colab-df-convert\" onclick=\"convertToInteractive('df-f5bb951f-e9e4-4d02-a3d4-591919d328a4')\"\n",
              "              title=\"Convert this dataframe to an interactive table.\"\n",
              "              style=\"display:none;\">\n",
              "        \n",
              "  <svg xmlns=\"http://www.w3.org/2000/svg\" height=\"24px\"viewBox=\"0 0 24 24\"\n",
              "       width=\"24px\">\n",
              "    <path d=\"M0 0h24v24H0V0z\" fill=\"none\"/>\n",
              "    <path d=\"M18.56 5.44l.94 2.06.94-2.06 2.06-.94-2.06-.94-.94-2.06-.94 2.06-2.06.94zm-11 1L8.5 8.5l.94-2.06 2.06-.94-2.06-.94L8.5 2.5l-.94 2.06-2.06.94zm10 10l.94 2.06.94-2.06 2.06-.94-2.06-.94-.94-2.06-.94 2.06-2.06.94z\"/><path d=\"M17.41 7.96l-1.37-1.37c-.4-.4-.92-.59-1.43-.59-.52 0-1.04.2-1.43.59L10.3 9.45l-7.72 7.72c-.78.78-.78 2.05 0 2.83L4 21.41c.39.39.9.59 1.41.59.51 0 1.02-.2 1.41-.59l7.78-7.78 2.81-2.81c.8-.78.8-2.07 0-2.86zM5.41 20L4 18.59l7.72-7.72 1.47 1.35L5.41 20z\"/>\n",
              "  </svg>\n",
              "      </button>\n",
              "      \n",
              "  <style>\n",
              "    .colab-df-container {\n",
              "      display:flex;\n",
              "      flex-wrap:wrap;\n",
              "      gap: 12px;\n",
              "    }\n",
              "\n",
              "    .colab-df-convert {\n",
              "      background-color: #E8F0FE;\n",
              "      border: none;\n",
              "      border-radius: 50%;\n",
              "      cursor: pointer;\n",
              "      display: none;\n",
              "      fill: #1967D2;\n",
              "      height: 32px;\n",
              "      padding: 0 0 0 0;\n",
              "      width: 32px;\n",
              "    }\n",
              "\n",
              "    .colab-df-convert:hover {\n",
              "      background-color: #E2EBFA;\n",
              "      box-shadow: 0px 1px 2px rgba(60, 64, 67, 0.3), 0px 1px 3px 1px rgba(60, 64, 67, 0.15);\n",
              "      fill: #174EA6;\n",
              "    }\n",
              "\n",
              "    [theme=dark] .colab-df-convert {\n",
              "      background-color: #3B4455;\n",
              "      fill: #D2E3FC;\n",
              "    }\n",
              "\n",
              "    [theme=dark] .colab-df-convert:hover {\n",
              "      background-color: #434B5C;\n",
              "      box-shadow: 0px 1px 3px 1px rgba(0, 0, 0, 0.15);\n",
              "      filter: drop-shadow(0px 1px 2px rgba(0, 0, 0, 0.3));\n",
              "      fill: #FFFFFF;\n",
              "    }\n",
              "  </style>\n",
              "\n",
              "      <script>\n",
              "        const buttonEl =\n",
              "          document.querySelector('#df-f5bb951f-e9e4-4d02-a3d4-591919d328a4 button.colab-df-convert');\n",
              "        buttonEl.style.display =\n",
              "          google.colab.kernel.accessAllowed ? 'block' : 'none';\n",
              "\n",
              "        async function convertToInteractive(key) {\n",
              "          const element = document.querySelector('#df-f5bb951f-e9e4-4d02-a3d4-591919d328a4');\n",
              "          const dataTable =\n",
              "            await google.colab.kernel.invokeFunction('convertToInteractive',\n",
              "                                                     [key], {});\n",
              "          if (!dataTable) return;\n",
              "\n",
              "          const docLinkHtml = 'Like what you see? Visit the ' +\n",
              "            '<a target=\"_blank\" href=https://colab.research.google.com/notebooks/data_table.ipynb>data table notebook</a>'\n",
              "            + ' to learn more about interactive tables.';\n",
              "          element.innerHTML = '';\n",
              "          dataTable['output_type'] = 'display_data';\n",
              "          await google.colab.output.renderOutput(dataTable, element);\n",
              "          const docLink = document.createElement('div');\n",
              "          docLink.innerHTML = docLinkHtml;\n",
              "          element.appendChild(docLink);\n",
              "        }\n",
              "      </script>\n",
              "    </div>\n",
              "  </div>\n",
              "  "
            ]
          },
          "metadata": {},
          "execution_count": 3
        }
      ]
    },
    {
      "cell_type": "markdown",
      "source": [
        "Esta é uma análise apenas dos preços de aluguel, portanto vamos continuar a análise apenas com estes dados."
      ],
      "metadata": {
        "id": "k-TSP0Va4g1u"
      }
    },
    {
      "cell_type": "code",
      "source": [
        "housing = housing[housing['Negotiation Type'] == 'rent']"
      ],
      "metadata": {
        "id": "Lbx8lecG4kAL"
      },
      "execution_count": null,
      "outputs": []
    },
    {
      "cell_type": "markdown",
      "source": [
        "Vamos divir 'District' em Distrito e Cidade, para enquadrar o problema de forma mais clara."
      ],
      "metadata": {
        "id": "_qSbcglk43hk"
      }
    },
    {
      "cell_type": "code",
      "source": [
        "housing[['District','City']] = housing['District'].str.split('/', expand = True)\n",
        "housing['City'].unique(), housing['Property Type'].unique()"
      ],
      "metadata": {
        "colab": {
          "base_uri": "https://localhost:8080/"
        },
        "id": "hAC2RiQa5QQw",
        "outputId": "df4a540a-d1e4-47b8-b8be-7d76eab957db"
      },
      "execution_count": null,
      "outputs": [
        {
          "output_type": "execute_result",
          "data": {
            "text/plain": [
              "(array(['São Paulo'], dtype=object), array(['apartment'], dtype=object))"
            ]
          },
          "metadata": {},
          "execution_count": 5
        }
      ]
    },
    {
      "cell_type": "markdown",
      "source": [
        "Há apenas dados da cidade de São Paulo e apenas apartamentos, portanto, como estes atributos não variam, vamos retirar as colunas correspondentes.\n",
        "Além disso, como selecionamos anteriormente, possuimos apenas dados sobre aluguel. Dessa forma, devemos retirar também a coluna 'Negotiation Type'."
      ],
      "metadata": {
        "id": "BnMGEEa-5eLN"
      }
    },
    {
      "cell_type": "code",
      "source": [
        "housing = housing.drop(columns = ['City', 'Property Type', 'Negotiation Type'], axis = 1)"
      ],
      "metadata": {
        "id": "vBbXR_5d6C4F"
      },
      "execution_count": null,
      "outputs": []
    },
    {
      "cell_type": "code",
      "source": [
        "housing.info()"
      ],
      "metadata": {
        "colab": {
          "base_uri": "https://localhost:8080/"
        },
        "id": "x-fPxGF76IMs",
        "outputId": "44f3f1c8-be43-464a-acea-9c5ec5f3c826"
      },
      "execution_count": null,
      "outputs": [
        {
          "output_type": "stream",
          "name": "stdout",
          "text": [
            "<class 'pandas.core.frame.DataFrame'>\n",
            "Int64Index: 7228 entries, 0 to 11209\n",
            "Data columns (total 14 columns):\n",
            " #   Column         Non-Null Count  Dtype  \n",
            "---  ------         --------------  -----  \n",
            " 0   Price          7228 non-null   int64  \n",
            " 1   Condo          7228 non-null   int64  \n",
            " 2   Size           7228 non-null   int64  \n",
            " 3   Rooms          7228 non-null   int64  \n",
            " 4   Toilets        7228 non-null   int64  \n",
            " 5   Suites         7228 non-null   int64  \n",
            " 6   Parking        7228 non-null   int64  \n",
            " 7   Elevator       7228 non-null   int64  \n",
            " 8   Furnished      7228 non-null   int64  \n",
            " 9   Swimming Pool  7228 non-null   int64  \n",
            " 10  New            7228 non-null   int64  \n",
            " 11  District       7228 non-null   object \n",
            " 12  Latitude       7228 non-null   float64\n",
            " 13  Longitude      7228 non-null   float64\n",
            "dtypes: float64(2), int64(11), object(1)\n",
            "memory usage: 847.0+ KB\n"
          ]
        }
      ]
    },
    {
      "cell_type": "markdown",
      "source": [
        "Há apenas 7228 instâncias no conjunto de dados, o que é muito pouco para os padrões de Aprendizado de Máquina, contudo, para uma breve análise, deve ser suficiente."
      ],
      "metadata": {
        "id": "gKEfDrU16K39"
      }
    },
    {
      "cell_type": "code",
      "source": [
        "housing.hist(bins=50, figsize=(20,15))"
      ],
      "metadata": {
        "colab": {
          "base_uri": "https://localhost:8080/",
          "height": 1000
        },
        "id": "ZJzQbuLi6OHd",
        "outputId": "6c73636d-6bc6-4d21-afab-a5638cc86170"
      },
      "execution_count": null,
      "outputs": [
        {
          "output_type": "execute_result",
          "data": {
            "text/plain": [
              "array([[<matplotlib.axes._subplots.AxesSubplot object at 0x7faa84f53650>,\n",
              "        <matplotlib.axes._subplots.AxesSubplot object at 0x7faa8a08a650>,\n",
              "        <matplotlib.axes._subplots.AxesSubplot object at 0x7faa84b38390>,\n",
              "        <matplotlib.axes._subplots.AxesSubplot object at 0x7faa8498b990>],\n",
              "       [<matplotlib.axes._subplots.AxesSubplot object at 0x7faa84a67cd0>,\n",
              "        <matplotlib.axes._subplots.AxesSubplot object at 0x7faa84946590>,\n",
              "        <matplotlib.axes._subplots.AxesSubplot object at 0x7faa84975b90>,\n",
              "        <matplotlib.axes._subplots.AxesSubplot object at 0x7faa8492f1d0>],\n",
              "       [<matplotlib.axes._subplots.AxesSubplot object at 0x7faa84937410>,\n",
              "        <matplotlib.axes._subplots.AxesSubplot object at 0x7faa848e9c90>,\n",
              "        <matplotlib.axes._subplots.AxesSubplot object at 0x7faa8484b410>,\n",
              "        <matplotlib.axes._subplots.AxesSubplot object at 0x7faa847fba10>],\n",
              "       [<matplotlib.axes._subplots.AxesSubplot object at 0x7faa847bb050>,\n",
              "        <matplotlib.axes._subplots.AxesSubplot object at 0x7faa847f3650>,\n",
              "        <matplotlib.axes._subplots.AxesSubplot object at 0x7faa847a8bd0>,\n",
              "        <matplotlib.axes._subplots.AxesSubplot object at 0x7faa8476c210>]],\n",
              "      dtype=object)"
            ]
          },
          "metadata": {},
          "execution_count": 8
        },
        {
          "output_type": "display_data",
          "data": {
            "text/plain": [
              "<Figure size 1440x1080 with 16 Axes>"
            ],
            "image/png": "[encoded data removed]"
          },
          "metadata": {
            "needs_background": "light"
          }
        }
      ]
    },
    {
      "cell_type": "markdown",
      "source": [
        "\"New\" também não varia, deve ser removido!."
      ],
      "metadata": {
        "id": "LdfJb69o6Zlo"
      }
    },
    {
      "cell_type": "code",
      "source": [
        "housing = housing.drop(columns = 'New', axis = 1)"
      ],
      "metadata": {
        "id": "dzpjN9Z16XHC"
      },
      "execution_count": null,
      "outputs": []
    },
    {
      "cell_type": "code",
      "source": [
        "housing[['Latitude', 'Longitude']].value_counts()"
      ],
      "metadata": {
        "colab": {
          "base_uri": "https://localhost:8080/"
        },
        "id": "BiPPdRh86RWR",
        "outputId": "10d4268f-4eeb-4a59-a498-9c71b84550d1"
      },
      "execution_count": null,
      "outputs": [
        {
          "output_type": "execute_result",
          "data": {
            "text/plain": [
              "Latitude    Longitude \n",
              " 0.000000    0.000000     483\n",
              "-23.505391  -46.622783     37\n",
              "-23.604294  -46.518325     35\n",
              "-23.522756  -46.655492     21\n",
              "-23.545395  -46.616793     17\n",
              "                         ... \n",
              "-23.578520  -46.638730      1\n",
              "-23.578490  -46.635167      1\n",
              "            -46.673904      1\n",
              "-23.578435  -46.672570      1\n",
              "-23.561178  -46.583734      1\n",
              "Length: 4878, dtype: int64"
            ]
          },
          "metadata": {},
          "execution_count": 10
        }
      ]
    },
    {
      "cell_type": "markdown",
      "source": [
        "Péssimo! muitos outliers em Longitude e Latitude"
      ],
      "metadata": {
        "id": "Wi48Iqd36Rxr"
      }
    },
    {
      "cell_type": "markdown",
      "source": [
        "Vamos seguir a seguinte estratégia para cuidar dos dados perdidos:\n",
        "os valores de Latitude e Longitude iguais a zero claramente são errôneos, já que os dados são de São Paulo, portanto vamos substituí-los(Latitude e Longitude) pela média dos valores do Distrito ao qual o dado em questão pertence."
      ],
      "metadata": {
        "id": "QQDQggyt6g7_"
      }
    },
    {
      "cell_type": "code",
      "source": [
        "#Para fazer isso, primeiro vamos remover os valores 0 para que eles não atrapalhem o cálculo da média.\n",
        "(housing.loc[(housing['Latitude'] == 0) & (housing['Longitude'] == 0), ['Latitude', 'Longitude']]) = (housing.loc[(housing['Latitude'] == 0) & (housing['Longitude'] == 0), ['Latitude', 'Longitude']]).replace(0, np.NaN)"
      ],
      "metadata": {
        "id": "tfkvLdMg6sam"
      },
      "execution_count": null,
      "outputs": []
    },
    {
      "cell_type": "code",
      "source": [
        "#Em seguida, vou mapear as médias de Latitude e Longitude dos Distritos e realizar a substituição através das funções da Pandas .groupby, .agg, .assign, .map, .apply\n",
        "means_mapping = (\n",
        "    housing\n",
        "    .groupby(\"District\")\n",
        "    .agg(LongitudeMean=(\"Longitude\", \"mean\"), LatitudeMean=(\"Latitude\", \"mean\"))\n",
        "    .reset_index()\n",
        ").set_index(\"District\").transpose().to_dict(\"list\")\n",
        "\n",
        "housing = housing.assign(\n",
        "    Longitude=housing[\"Longitude\"].fillna(housing[\"District\"].map(means_mapping).apply(lambda x: x[0])),\n",
        "    Latitude=housing[\"Latitude\"].fillna(housing[\"District\"].map(means_mapping).apply(lambda x: x[1]))\n",
        ")"
      ],
      "metadata": {
        "id": "6o8RJYME6vwl"
      },
      "execution_count": null,
      "outputs": []
    },
    {
      "cell_type": "code",
      "source": [
        "housing[['Latitude', 'Longitude']].value_counts()"
      ],
      "metadata": {
        "colab": {
          "base_uri": "https://localhost:8080/"
        },
        "id": "q4xEeqL26w9O",
        "outputId": "51145acd-c806-4c7b-b551-438fbdb10d94"
      },
      "execution_count": null,
      "outputs": [
        {
          "output_type": "execute_result",
          "data": {
            "text/plain": [
              "Latitude    Longitude \n",
              "-23.505391  -46.622783    37\n",
              "-23.604294  -46.518325    35\n",
              "-23.611456  -46.539133    23\n",
              "-23.522756  -46.655492    21\n",
              "-23.550787  -46.686626    19\n",
              "                          ..\n",
              "-23.578202  -46.616857     1\n",
              "-23.578178  -46.672085     1\n",
              "-23.578152  -46.674580     1\n",
              "-23.578139  -46.641808     1\n",
              "-21.857741  -51.976357     1\n",
              "Length: 4949, dtype: int64"
            ]
          },
          "metadata": {},
          "execution_count": 13
        }
      ]
    },
    {
      "cell_type": "markdown",
      "source": [
        "#Hora de Criar um conjunto de Testes"
      ],
      "metadata": {
        "id": "6oCuk5QM7JfE"
      }
    },
    {
      "cell_type": "markdown",
      "source": [
        "Pode parecer estranho decidir abrir mão de parte dos dados agora, sem antes ter feito uma análise mais profunda para decidir quais algoritmos usar. Contudo, como Aurelion Géron cita em seu brilhante livro \"Hands-On Machine Learning with Scikit-Learn and Tensorflow\", o cérebro humano é uma incrível máquina de detecção de padrões, o que pode levar a um sobreajuste. Dessa forma, nós podemos identificar algum suposto padrão, o que nos levará a selecionar umm tipo específico de modelo.(Data Snooping Bias)\n",
        "\n",
        "Além disso, para fins de estudo vou criar dois conjuntos de testes: um terá amostragem aleatória e outro terá viés de amostragem estratificada. Dessa forma, será possível conferir se a amostragem aleátoria apresenta um viés significativo de amostragem."
      ],
      "metadata": {
        "id": "OsNjN0KD7yf7"
      }
    },
    {
      "cell_type": "markdown",
      "source": [
        "**Amostragem Aleatória**"
      ],
      "metadata": {
        "id": "sgWQ-6t28Kt6"
      }
    },
    {
      "cell_type": "code",
      "source": [
        "from sklearn.model_selection import train_test_split\n",
        "\n",
        "rand_train_set, rand_test_set = train_test_split(housing, test_size=0.2, random_state=42)"
      ],
      "metadata": {
        "id": "lCF5ZYve8J6L"
      },
      "execution_count": null,
      "outputs": []
    },
    {
      "cell_type": "markdown",
      "source": [
        "**Amostragem Estratificada**"
      ],
      "metadata": {
        "id": "LyowOd2P8UeV"
      }
    },
    {
      "cell_type": "code",
      "source": [
        "housing['Size_cat'] = np.ceil(housing['Size'] / 50)\n",
        "housing['Size_cat'].where(housing['Size_cat'] < 5, 5.0, inplace=True)\n",
        "\n",
        "housing['Size_cat'].hist(bins=50)"
      ],
      "metadata": {
        "colab": {
          "base_uri": "https://localhost:8080/"
        },
        "id": "G_QqkwII8Zs5",
        "outputId": "92deb0ed-b77c-4486-ec60-cc333c556225"
      },
      "execution_count": null,
      "outputs": [
        {
          "output_type": "execute_result",
          "data": {
            "text/plain": [
              "<matplotlib.axes._subplots.AxesSubplot at 0x7faa77506f50>"
            ]
          },
          "metadata": {},
          "execution_count": 15
        },
        {
          "output_type": "display_data",
          "data": {
            "text/plain": [
              "<Figure size 432x288 with 1 Axes>"
            ],
            "image/png": "[encoded data removed]"
          },
          "metadata": {
            "needs_background": "light"
          }
        }
      ]
    },
    {
      "cell_type": "code",
      "source": [
        "strat_train_set, strat_test_set = train_test_split(housing, test_size=0.2, random_state=42, stratify=housing[\"Size_cat\"])"
      ],
      "metadata": {
        "id": "Bd6DMWOe8gIC"
      },
      "execution_count": null,
      "outputs": []
    },
    {
      "cell_type": "code",
      "source": [
        "strat_test_set[\"Size_cat\"].value_counts() / len(strat_test_set)"
      ],
      "metadata": {
        "colab": {
          "base_uri": "https://localhost:8080/"
        },
        "id": "R_shPYuS8gft",
        "outputId": "2dc34b44-fe58-4b93-f219-26f8fd577352"
      },
      "execution_count": null,
      "outputs": [
        {
          "output_type": "execute_result",
          "data": {
            "text/plain": [
              "2.0    0.514523\n",
              "1.0    0.239281\n",
              "3.0    0.118949\n",
              "4.0    0.065007\n",
              "5.0    0.062241\n",
              "Name: Size_cat, dtype: float64"
            ]
          },
          "metadata": {},
          "execution_count": 17
        }
      ]
    },
    {
      "cell_type": "code",
      "source": [
        "housing[\"Size_cat\"].value_counts() / len(housing)"
      ],
      "metadata": {
        "colab": {
          "base_uri": "https://localhost:8080/"
        },
        "id": "xNtjX6rG8gw0",
        "outputId": "6031d9ca-dad7-4435-84ac-06e097fd78b8"
      },
      "execution_count": null,
      "outputs": [
        {
          "output_type": "execute_result",
          "data": {
            "text/plain": [
              "2.0    0.514804\n",
              "1.0    0.238932\n",
              "3.0    0.118982\n",
              "4.0    0.065302\n",
              "5.0    0.061981\n",
              "Name: Size_cat, dtype: float64"
            ]
          },
          "metadata": {},
          "execution_count": 18
        }
      ]
    },
    {
      "cell_type": "markdown",
      "source": [
        "As proporções no conjunto de teste estratificado está quase identica às proporções do conjunto geral de dados, perfeito!"
      ],
      "metadata": {
        "id": "vjtBQSE68l75"
      }
    },
    {
      "cell_type": "code",
      "source": [
        "#Removendo o atributo Size_cat\n",
        "\n",
        "for set_ in (strat_train_set, strat_test_set):\n",
        "    set_.drop(\"Size_cat\", axis=1, inplace=True)"
      ],
      "metadata": {
        "id": "_SQek3Df8od9"
      },
      "execution_count": null,
      "outputs": []
    },
    {
      "cell_type": "code",
      "source": [
        "#Vamos deixar o conjunto de teste de lado e prosseguir apenas com o conjunto de treinamento. Exploraremos o conjunto estratificado, mas, no fim da análise, ainda faremos comparações com o conjunto aleatório.\n",
        "\n",
        "housing = strat_train_set.copy()"
      ],
      "metadata": {
        "id": "7CT7nBj08tFv"
      },
      "execution_count": null,
      "outputs": []
    },
    {
      "cell_type": "markdown",
      "source": [
        "#Explorando os dados"
      ],
      "metadata": {
        "id": "WF-lMlM18zPA"
      }
    },
    {
      "cell_type": "markdown",
      "source": [
        "**Analisando os Distritos**"
      ],
      "metadata": {
        "id": "FzSDFrawHqzM"
      }
    },
    {
      "cell_type": "code",
      "source": [
        "housing['District'].value_counts()"
      ],
      "metadata": {
        "colab": {
          "base_uri": "https://localhost:8080/"
        },
        "id": "94WL97MLHxzQ",
        "outputId": "53016df9-6df3-4ffe-ef52-e41cf00e327e"
      },
      "execution_count": null,
      "outputs": [
        {
          "output_type": "execute_result",
          "data": {
            "text/plain": [
              "Mooca              142\n",
              "Morumbi            131\n",
              "Vila Leopoldina    130\n",
              "Cambuci            127\n",
              "Vila Mariana       127\n",
              "                  ... \n",
              "Lajeado              7\n",
              "Parque do Carmo      5\n",
              "Guaianazes           5\n",
              "Jardim São Luis      2\n",
              "Grajaú               2\n",
              "Name: District, Length: 94, dtype: int64"
            ]
          },
          "metadata": {},
          "execution_count": 21
        }
      ]
    },
    {
      "cell_type": "markdown",
      "source": [
        "Qual Distrito deve ter o maior preço médio?"
      ],
      "metadata": {
        "id": "IZuiIKGtG3-l"
      }
    },
    {
      "cell_type": "code",
      "source": [
        "grouped = housing.groupby('District')['Price'].mean().reset_index()\n",
        "grouped = grouped.sort_values(by = 'Price',ascending = True)\n",
        "\n",
        "\n",
        "grouped.plot.barh(x='District', y='Price', figsize=(14, 14), fontsize=8)"
      ],
      "metadata": {
        "colab": {
          "base_uri": "https://localhost:8080/",
          "height": 825
        },
        "id": "fjPFdI0TEYl6",
        "outputId": "d8c7031a-ac89-4c9d-8580-25235a89bd88"
      },
      "execution_count": null,
      "outputs": [
        {
          "output_type": "execute_result",
          "data": {
            "text/plain": [
              "<matplotlib.axes._subplots.AxesSubplot at 0x7faa7744ebd0>"
            ]
          },
          "metadata": {},
          "execution_count": 22
        },
        {
          "output_type": "display_data",
          "data": {
            "text/plain": [
              "<Figure size 1008x1008 with 1 Axes>"
            ],
            "image/png": "[encoded data removed]"
          },
          "metadata": {
            "needs_background": "light"
          }
        }
      ]
    },
    {
      "cell_type": "markdown",
      "source": [
        "**Analisando Relações**"
      ],
      "metadata": {
        "id": "US2KRyU1EU2I"
      }
    },
    {
      "cell_type": "code",
      "source": [
        "housing.plot(kind='scatter', x='Suites', y='Price', alpha=0.3)"
      ],
      "metadata": {
        "colab": {
          "base_uri": "https://localhost:8080/",
          "height": 303
        },
        "id": "oiOIU6bN_ren",
        "outputId": "40adf5d1-28bb-44ef-9b12-47b4a6b19b55"
      },
      "execution_count": null,
      "outputs": [
        {
          "output_type": "execute_result",
          "data": {
            "text/plain": [
              "<matplotlib.axes._subplots.AxesSubplot at 0x7faa771111d0>"
            ]
          },
          "metadata": {},
          "execution_count": 23
        },
        {
          "output_type": "display_data",
          "data": {
            "text/plain": [
              "<Figure size 432x288 with 1 Axes>"
            ],
            "image/png": "[encoded data removed]"
          },
          "metadata": {
            "needs_background": "light"
          }
        }
      ]
    },
    {
      "cell_type": "markdown",
      "source": [
        "Claro, a tendência é o valor do aluguel subir com o aumento da quantidade de suítes."
      ],
      "metadata": {
        "id": "aRA5EKJ__sDF"
      }
    },
    {
      "cell_type": "code",
      "source": [
        "housing.plot(kind='scatter', x='Rooms', y='Price', alpha=0.3)"
      ],
      "metadata": {
        "colab": {
          "base_uri": "https://localhost:8080/",
          "height": 303
        },
        "id": "1x_6UWH0__ds",
        "outputId": "e1ae8e37-18c8-48c0-b554-ebabd80c6213"
      },
      "execution_count": null,
      "outputs": [
        {
          "output_type": "execute_result",
          "data": {
            "text/plain": [
              "<matplotlib.axes._subplots.AxesSubplot at 0x7faa75876c10>"
            ]
          },
          "metadata": {},
          "execution_count": 24
        },
        {
          "output_type": "display_data",
          "data": {
            "text/plain": [
              "<Figure size 432x288 with 1 Axes>"
            ],
            "image/png": "[encoded data removed]"
          },
          "metadata": {
            "needs_background": "light"
          }
        }
      ]
    },
    {
      "cell_type": "markdown",
      "source": [
        "A mesma coisa parece acontecer com quartos até 4, depois disso a quantidade de dados cai muito. O que será que acontece com a quantidade de toalete?"
      ],
      "metadata": {
        "id": "vlGQvBKNABDN"
      }
    },
    {
      "cell_type": "code",
      "source": [
        "housing.plot(kind='scatter', x='Toilets', y='Price', alpha=0.3)"
      ],
      "metadata": {
        "colab": {
          "base_uri": "https://localhost:8080/",
          "height": 303
        },
        "id": "a4pq-aFHAgK1",
        "outputId": "915de91e-54db-49cc-dee3-131defb4409e"
      },
      "execution_count": null,
      "outputs": [
        {
          "output_type": "execute_result",
          "data": {
            "text/plain": [
              "<matplotlib.axes._subplots.AxesSubplot at 0x7faa757e59d0>"
            ]
          },
          "metadata": {},
          "execution_count": 25
        },
        {
          "output_type": "display_data",
          "data": {
            "text/plain": [
              "<Figure size 432x288 with 1 Axes>"
            ],
            "image/png": "[encoded data removed]"
          },
          "metadata": {
            "needs_background": "light"
          }
        }
      ]
    },
    {
      "cell_type": "markdown",
      "source": [
        "O padrão parece continuar, vamos continuar analisando o número de vagas."
      ],
      "metadata": {
        "id": "kuR5t1PWBbdr"
      }
    },
    {
      "cell_type": "code",
      "source": [
        "housing.plot(kind='scatter', x='Parking', y='Price', alpha=0.3)"
      ],
      "metadata": {
        "colab": {
          "base_uri": "https://localhost:8080/",
          "height": 303
        },
        "id": "opju8BmUCJqe",
        "outputId": "0d36b6e5-174e-4483-cee8-e91a0664e540"
      },
      "execution_count": null,
      "outputs": [
        {
          "output_type": "execute_result",
          "data": {
            "text/plain": [
              "<matplotlib.axes._subplots.AxesSubplot at 0x7faa75845710>"
            ]
          },
          "metadata": {},
          "execution_count": 26
        },
        {
          "output_type": "display_data",
          "data": {
            "text/plain": [
              "<Figure size 432x288 with 1 Axes>"
            ],
            "image/png": "[encoded data removed]"
          },
          "metadata": {
            "needs_background": "light"
          }
        }
      ]
    },
    {
      "cell_type": "markdown",
      "source": [
        "Okay, conseguimos flagrar alguns padrões aqui! Contudo, alguns outliers também foram notados, o que pode atrapalhar nosso modelo."
      ],
      "metadata": {
        "id": "oy5V3WFdCpEC"
      }
    },
    {
      "cell_type": "markdown",
      "source": [
        "**Vizualiando Dados Geográficos**"
      ],
      "metadata": {
        "id": "NAh8hns_83m-"
      }
    },
    {
      "cell_type": "code",
      "source": [
        "ax = housing.plot(kind=\"scatter\", x=\"Longitude\", y=\"Latitude\", alpha=0.4, s=housing['Size']/5 , c = 'Price' ,cmap=plt.get_cmap('jet'),colorbar=True,\n",
        "    sharex=False)\n",
        "ax.set_xlim(-46.9, -46.3)\n",
        "ax.set_ylim(-23.9, -23.35)"
      ],
      "metadata": {
        "colab": {
          "base_uri": "https://localhost:8080/",
          "height": 308
        },
        "id": "gfom1jbt88Og",
        "outputId": "1a21aa81-e163-48cf-8cdb-ea34b7168190"
      },
      "execution_count": null,
      "outputs": [
        {
          "output_type": "execute_result",
          "data": {
            "text/plain": [
              "(-23.9, -23.35)"
            ]
          },
          "metadata": {},
          "execution_count": 27
        },
        {
          "output_type": "display_data",
          "data": {
            "text/plain": [
              "<Figure size 432x288 with 2 Axes>"
            ],
            "image/png": "[encoded data removed]"
          },
          "metadata": {
            "needs_background": "light"
          }
        }
      ]
    },
    {
      "cell_type": "code",
      "source": [
        "#Buscando Correlações\n",
        "\n",
        "corr_matrix = housing.corr()\n",
        "corr_matrix['Price'].sort_values(ascending=False)"
      ],
      "metadata": {
        "colab": {
          "base_uri": "https://localhost:8080/"
        },
        "id": "jMTVyVKS8-ek",
        "outputId": "b5b5fcc9-f6cc-446c-9ec2-194d5e28ba1e"
      },
      "execution_count": null,
      "outputs": [
        {
          "output_type": "execute_result",
          "data": {
            "text/plain": [
              "Price            1.000000\n",
              "Size             0.731385\n",
              "Condo            0.699513\n",
              "Parking          0.634826\n",
              "Suites           0.585442\n",
              "Toilets          0.579031\n",
              "Rooms            0.399655\n",
              "Swimming Pool    0.211252\n",
              "Furnished        0.159790\n",
              "Elevator         0.030300\n",
              "Latitude        -0.005602\n",
              "Longitude       -0.024790\n",
              "Name: Price, dtype: float64"
            ]
          },
          "metadata": {},
          "execution_count": 28
        }
      ]
    },
    {
      "cell_type": "markdown",
      "source": [
        "Muito interessante! O tamanho da residência e o valor do condominio parecem ser muito determinantes no preço do aluguel.\n",
        "\n",
        "Vamos plotar os atributos mais promissores para prever o valor do aluguel."
      ],
      "metadata": {
        "id": "zQk2ZEfy9ECG"
      }
    },
    {
      "cell_type": "code",
      "source": [
        "ax = housing.plot(kind='scatter', x='Size', y='Price', alpha=0.1)\n",
        "ax.set_xlim(0, 400)\n",
        "ax.set_ylim(0, 20000)"
      ],
      "metadata": {
        "colab": {
          "base_uri": "https://localhost:8080/",
          "height": 308
        },
        "id": "DDkn2MlK9Lw-",
        "outputId": "96013458-6d83-449e-94cb-97a72233697e"
      },
      "execution_count": null,
      "outputs": [
        {
          "output_type": "execute_result",
          "data": {
            "text/plain": [
              "(0.0, 20000.0)"
            ]
          },
          "metadata": {},
          "execution_count": 29
        },
        {
          "output_type": "display_data",
          "data": {
            "text/plain": [
              "<Figure size 432x288 with 1 Axes>"
            ],
            "image/png": "[encoded data removed]"
          },
          "metadata": {
            "needs_background": "light"
          }
        }
      ]
    },
    {
      "cell_type": "markdown",
      "source": [
        "A tendência ascendente é bem clara, contudo, além disso, é possivél notar algumas linhas verticais e horizontais, o que pode ser um problema, já que o algoritmo selecionado pode tentar reproduzir essa disposição."
      ],
      "metadata": {
        "id": "ZPBEB8tO9PCt"
      }
    },
    {
      "cell_type": "code",
      "source": [
        "ax = housing.plot(kind='scatter', x='Condo', y='Price', alpha=0.1)\n",
        "ax.set_xlim(50, 4000)\n",
        "ax.set_ylim(0, 20000)"
      ],
      "metadata": {
        "colab": {
          "base_uri": "https://localhost:8080/",
          "height": 308
        },
        "id": "dE1AP2Fm9P1F",
        "outputId": "e1bb245a-d1a2-47a2-de0a-d816ade71b59"
      },
      "execution_count": null,
      "outputs": [
        {
          "output_type": "execute_result",
          "data": {
            "text/plain": [
              "(0.0, 20000.0)"
            ]
          },
          "metadata": {},
          "execution_count": 30
        },
        {
          "output_type": "display_data",
          "data": {
            "text/plain": [
              "<Figure size 432x288 with 1 Axes>"
            ],
            "image/png": "[encoded data removed]"
          },
          "metadata": {
            "needs_background": "light"
          }
        }
      ]
    },
    {
      "cell_type": "markdown",
      "source": [
        "Novamente uma clara tendência ascendente muito forte."
      ],
      "metadata": {
        "id": "yYr9Ueiz9RMs"
      }
    },
    {
      "cell_type": "markdown",
      "source": [
        "Vamos tentar combinar alguns atributos para conseguir relações mais fortes."
      ],
      "metadata": {
        "id": "dR0SV8_b9x9f"
      }
    },
    {
      "cell_type": "code",
      "source": [
        "housing[\"Condo_per_size\"] = housing[\"Condo\"]/housing[\"Size\"]\n",
        "housing[\"Rooms_per_size\"] = housing[\"Rooms\"]/housing[\"Size\"]\n",
        "housing[\"Toilets_per_size\"] = housing[\"Toilets\"]/housing[\"Size\"]\n",
        "housing[\"Toilets_per_room\"] = housing[\"Toilets\"]/housing[\"Rooms\"]"
      ],
      "metadata": {
        "id": "1nzvdY4a92jk"
      },
      "execution_count": null,
      "outputs": []
    },
    {
      "cell_type": "code",
      "source": [
        "#Vamos analisar as novas correlações\n",
        "corr_matrix = housing.corr()\n",
        "corr_matrix['Price'].sort_values(ascending=False)"
      ],
      "metadata": {
        "colab": {
          "base_uri": "https://localhost:8080/"
        },
        "id": "Yb6weo2Z94NB",
        "outputId": "b597ddf7-fd60-4b02-9475-a607c1332ae4"
      },
      "execution_count": null,
      "outputs": [
        {
          "output_type": "execute_result",
          "data": {
            "text/plain": [
              "Price               1.000000\n",
              "Size                0.731385\n",
              "Condo               0.699513\n",
              "Parking             0.634826\n",
              "Suites              0.585442\n",
              "Toilets             0.579031\n",
              "Rooms               0.399655\n",
              "Condo_per_size      0.214777\n",
              "Swimming Pool       0.211252\n",
              "Toilets_per_room    0.193582\n",
              "Furnished           0.159790\n",
              "Elevator            0.030300\n",
              "Latitude           -0.005602\n",
              "Longitude          -0.024790\n",
              "Toilets_per_size   -0.273775\n",
              "Rooms_per_size     -0.515447\n",
              "Name: Price, dtype: float64"
            ]
          },
          "metadata": {},
          "execution_count": 32
        }
      ]
    },
    {
      "cell_type": "markdown",
      "source": [
        "Supreendente! Pensei que os atributos \"Rooms_per_size\" e \"Toilets_per_size\" representassem correlações positivas, mas aparentemente, quanto mais banheiros e quartos um espaço tiver, menor vai ser o preço de seu aluguel."
      ],
      "metadata": {
        "id": "J-_HRDQN95wK"
      }
    },
    {
      "cell_type": "markdown",
      "source": [
        "#Preparando os Dados para algoritmos de aprendizado de Máquina"
      ],
      "metadata": {
        "id": "q42fVZLdIL7c"
      }
    },
    {
      "cell_type": "markdown",
      "source": [
        "Vamos reverter para um conjunto de treinamento limpo e separar os previsores dos rótulos, já que não queremos necessariamente aplicar as mesmas transformações nos previsores e nos valores alvo."
      ],
      "metadata": {
        "id": "xrXNSDDMIO4S"
      }
    },
    {
      "cell_type": "code",
      "source": [
        "housing = strat_train_set.drop('Price', axis=1)\n",
        "housing_labels = strat_train_set['Price'].copy()"
      ],
      "metadata": {
        "id": "gOfsyVkNIQLU"
      },
      "execution_count": null,
      "outputs": []
    },
    {
      "cell_type": "code",
      "source": [
        "housing"
      ],
      "metadata": {
        "colab": {
          "base_uri": "https://localhost:8080/",
          "height": 424
        },
        "id": "ln0YGq_oIS35",
        "outputId": "97ef58be-a75c-41cb-f829-20a33983e9ca"
      },
      "execution_count": null,
      "outputs": [
        {
          "output_type": "execute_result",
          "data": {
            "text/plain": [
              "       Condo  Size  Rooms  Toilets  Suites  Parking  Elevator  Furnished  \\\n",
              "2521     470    65      2        1       0        0         0          0   \n",
              "1355     800   110      3        3       2        2         1          0   \n",
              "3409     620    49      1        2       1        1         0          0   \n",
              "2600     850    83      3        3       2        2         0          0   \n",
              "9896    2875    70      2        2       1        2         1          0   \n",
              "...      ...   ...    ...      ...     ...      ...       ...        ...   \n",
              "3838    2700   194      4        3       2        5         0          0   \n",
              "841      450    55      1        2       1        1         1          0   \n",
              "868        0    42      2        2       1        1         1          0   \n",
              "4034     687    84      3        2       1        2         0          0   \n",
              "10842   3500   280      3        4       3        3         0          0   \n",
              "\n",
              "       Swimming Pool           District   Latitude  Longitude  \n",
              "2521               0          República -23.541412 -46.646156  \n",
              "1355               1        Santo Amaro -23.629488 -46.694142  \n",
              "3409               0         Campo Belo -23.620655 -46.677333  \n",
              "2600               1         Casa Verde -23.550787 -46.686626  \n",
              "9896               1         Itaim Bibi -23.581399 -46.676908  \n",
              "...              ...                ...        ...        ...  \n",
              "3838               1              Moema -23.602063 -46.658992  \n",
              "841                1       Campo Grande -23.671438 -46.686446  \n",
              "868                1        Campo Limpo -23.617328 -46.759936  \n",
              "4034               1              Saúde -23.611371 -46.631732  \n",
              "10842              1  Alto de Pinheiros -23.552010 -46.710128  \n",
              "\n",
              "[5782 rows x 12 columns]"
            ],
            "text/html": [
              "\n",
              "  <div id=\"df-1f7bd4e4-bb67-4843-94e5-76202748d5c8\">\n",
              "    <div class=\"colab-df-container\">\n",
              "      <div>\n",
              "<style scoped>\n",
              "    .dataframe tbody tr th:only-of-type {\n",
              "        vertical-align: middle;\n",
              "    }\n",
              "\n",
              "    .dataframe tbody tr th {\n",
              "        vertical-align: top;\n",
              "    }\n",
              "\n",
              "    .dataframe thead th {\n",
              "        text-align: right;\n",
              "    }\n",
              "</style>\n",
              "<table border=\"1\" class=\"dataframe\">\n",
              "  <thead>\n",
              "    <tr style=\"text-align: right;\">\n",
              "      <th></th>\n",
              "      <th>Condo</th>\n",
              "      <th>Size</th>\n",
              "      <th>Rooms</th>\n",
              "      <th>Toilets</th>\n",
              "      <th>Suites</th>\n",
              "      <th>Parking</th>\n",
              "      <th>Elevator</th>\n",
              "      <th>Furnished</th>\n",
              "      <th>Swimming Pool</th>\n",
              "      <th>District</th>\n",
              "      <th>Latitude</th>\n",
              "      <th>Longitude</th>\n",
              "    </tr>\n",
              "  </thead>\n",
              "  <tbody>\n",
              "    <tr>\n",
              "      <th>2521</th>\n",
              "      <td>470</td>\n",
              "      <td>65</td>\n",
              "      <td>2</td>\n",
              "      <td>1</td>\n",
              "      <td>0</td>\n",
              "      <td>0</td>\n",
              "      <td>0</td>\n",
              "      <td>0</td>\n",
              "      <td>0</td>\n",
              "      <td>República</td>\n",
              "      <td>-23.541412</td>\n",
              "      <td>-46.646156</td>\n",
              "    </tr>\n",
              "    <tr>\n",
              "      <th>1355</th>\n",
              "      <td>800</td>\n",
              "      <td>110</td>\n",
              "      <td>3</td>\n",
              "      <td>3</td>\n",
              "      <td>2</td>\n",
              "      <td>2</td>\n",
              "      <td>1</td>\n",
              "      <td>0</td>\n",
              "      <td>1</td>\n",
              "      <td>Santo Amaro</td>\n",
              "      <td>-23.629488</td>\n",
              "      <td>-46.694142</td>\n",
              "    </tr>\n",
              "    <tr>\n",
              "      <th>3409</th>\n",
              "      <td>620</td>\n",
              "      <td>49</td>\n",
              "      <td>1</td>\n",
              "      <td>2</td>\n",
              "      <td>1</td>\n",
              "      <td>1</td>\n",
              "      <td>0</td>\n",
              "      <td>0</td>\n",
              "      <td>0</td>\n",
              "      <td>Campo Belo</td>\n",
              "      <td>-23.620655</td>\n",
              "      <td>-46.677333</td>\n",
              "    </tr>\n",
              "    <tr>\n",
              "      <th>2600</th>\n",
              "      <td>850</td>\n",
              "      <td>83</td>\n",
              "      <td>3</td>\n",
              "      <td>3</td>\n",
              "      <td>2</td>\n",
              "      <td>2</td>\n",
              "      <td>0</td>\n",
              "      <td>0</td>\n",
              "      <td>1</td>\n",
              "      <td>Casa Verde</td>\n",
              "      <td>-23.550787</td>\n",
              "      <td>-46.686626</td>\n",
              "    </tr>\n",
              "    <tr>\n",
              "      <th>9896</th>\n",
              "      <td>2875</td>\n",
              "      <td>70</td>\n",
              "      <td>2</td>\n",
              "      <td>2</td>\n",
              "      <td>1</td>\n",
              "      <td>2</td>\n",
              "      <td>1</td>\n",
              "      <td>0</td>\n",
              "      <td>1</td>\n",
              "      <td>Itaim Bibi</td>\n",
              "      <td>-23.581399</td>\n",
              "      <td>-46.676908</td>\n",
              "    </tr>\n",
              "    <tr>\n",
              "      <th>...</th>\n",
              "      <td>...</td>\n",
              "      <td>...</td>\n",
              "      <td>...</td>\n",
              "      <td>...</td>\n",
              "      <td>...</td>\n",
              "      <td>...</td>\n",
              "      <td>...</td>\n",
              "      <td>...</td>\n",
              "      <td>...</td>\n",
              "      <td>...</td>\n",
              "      <td>...</td>\n",
              "      <td>...</td>\n",
              "    </tr>\n",
              "    <tr>\n",
              "      <th>3838</th>\n",
              "      <td>2700</td>\n",
              "      <td>194</td>\n",
              "      <td>4</td>\n",
              "      <td>3</td>\n",
              "      <td>2</td>\n",
              "      <td>5</td>\n",
              "      <td>0</td>\n",
              "      <td>0</td>\n",
              "      <td>1</td>\n",
              "      <td>Moema</td>\n",
              "      <td>-23.602063</td>\n",
              "      <td>-46.658992</td>\n",
              "    </tr>\n",
              "    <tr>\n",
              "      <th>841</th>\n",
              "      <td>450</td>\n",
              "      <td>55</td>\n",
              "      <td>1</td>\n",
              "      <td>2</td>\n",
              "      <td>1</td>\n",
              "      <td>1</td>\n",
              "      <td>1</td>\n",
              "      <td>0</td>\n",
              "      <td>1</td>\n",
              "      <td>Campo Grande</td>\n",
              "      <td>-23.671438</td>\n",
              "      <td>-46.686446</td>\n",
              "    </tr>\n",
              "    <tr>\n",
              "      <th>868</th>\n",
              "      <td>0</td>\n",
              "      <td>42</td>\n",
              "      <td>2</td>\n",
              "      <td>2</td>\n",
              "      <td>1</td>\n",
              "      <td>1</td>\n",
              "      <td>1</td>\n",
              "      <td>0</td>\n",
              "      <td>1</td>\n",
              "      <td>Campo Limpo</td>\n",
              "      <td>-23.617328</td>\n",
              "      <td>-46.759936</td>\n",
              "    </tr>\n",
              "    <tr>\n",
              "      <th>4034</th>\n",
              "      <td>687</td>\n",
              "      <td>84</td>\n",
              "      <td>3</td>\n",
              "      <td>2</td>\n",
              "      <td>1</td>\n",
              "      <td>2</td>\n",
              "      <td>0</td>\n",
              "      <td>0</td>\n",
              "      <td>1</td>\n",
              "      <td>Saúde</td>\n",
              "      <td>-23.611371</td>\n",
              "      <td>-46.631732</td>\n",
              "    </tr>\n",
              "    <tr>\n",
              "      <th>10842</th>\n",
              "      <td>3500</td>\n",
              "      <td>280</td>\n",
              "      <td>3</td>\n",
              "      <td>4</td>\n",
              "      <td>3</td>\n",
              "      <td>3</td>\n",
              "      <td>0</td>\n",
              "      <td>0</td>\n",
              "      <td>1</td>\n",
              "      <td>Alto de Pinheiros</td>\n",
              "      <td>-23.552010</td>\n",
              "      <td>-46.710128</td>\n",
              "    </tr>\n",
              "  </tbody>\n",
              "</table>\n",
              "<p>5782 rows × 12 columns</p>\n",
              "</div>\n",
              "      <button class=\"colab-df-convert\" onclick=\"convertToInteractive('df-1f7bd4e4-bb67-4843-94e5-76202748d5c8')\"\n",
              "              title=\"Convert this dataframe to an interactive table.\"\n",
              "              style=\"display:none;\">\n",
              "        \n",
              "  <svg xmlns=\"http://www.w3.org/2000/svg\" height=\"24px\"viewBox=\"0 0 24 24\"\n",
              "       width=\"24px\">\n",
              "    <path d=\"M0 0h24v24H0V0z\" fill=\"none\"/>\n",
              "    <path d=\"M18.56 5.44l.94 2.06.94-2.06 2.06-.94-2.06-.94-.94-2.06-.94 2.06-2.06.94zm-11 1L8.5 8.5l.94-2.06 2.06-.94-2.06-.94L8.5 2.5l-.94 2.06-2.06.94zm10 10l.94 2.06.94-2.06 2.06-.94-2.06-.94-.94-2.06-.94 2.06-2.06.94z\"/><path d=\"M17.41 7.96l-1.37-1.37c-.4-.4-.92-.59-1.43-.59-.52 0-1.04.2-1.43.59L10.3 9.45l-7.72 7.72c-.78.78-.78 2.05 0 2.83L4 21.41c.39.39.9.59 1.41.59.51 0 1.02-.2 1.41-.59l7.78-7.78 2.81-2.81c.8-.78.8-2.07 0-2.86zM5.41 20L4 18.59l7.72-7.72 1.47 1.35L5.41 20z\"/>\n",
              "  </svg>\n",
              "      </button>\n",
              "      \n",
              "  <style>\n",
              "    .colab-df-container {\n",
              "      display:flex;\n",
              "      flex-wrap:wrap;\n",
              "      gap: 12px;\n",
              "    }\n",
              "\n",
              "    .colab-df-convert {\n",
              "      background-color: #E8F0FE;\n",
              "      border: none;\n",
              "      border-radius: 50%;\n",
              "      cursor: pointer;\n",
              "      display: none;\n",
              "      fill: #1967D2;\n",
              "      height: 32px;\n",
              "      padding: 0 0 0 0;\n",
              "      width: 32px;\n",
              "    }\n",
              "\n",
              "    .colab-df-convert:hover {\n",
              "      background-color: #E2EBFA;\n",
              "      box-shadow: 0px 1px 2px rgba(60, 64, 67, 0.3), 0px 1px 3px 1px rgba(60, 64, 67, 0.15);\n",
              "      fill: #174EA6;\n",
              "    }\n",
              "\n",
              "    [theme=dark] .colab-df-convert {\n",
              "      background-color: #3B4455;\n",
              "      fill: #D2E3FC;\n",
              "    }\n",
              "\n",
              "    [theme=dark] .colab-df-convert:hover {\n",
              "      background-color: #434B5C;\n",
              "      box-shadow: 0px 1px 3px 1px rgba(0, 0, 0, 0.15);\n",
              "      filter: drop-shadow(0px 1px 2px rgba(0, 0, 0, 0.3));\n",
              "      fill: #FFFFFF;\n",
              "    }\n",
              "  </style>\n",
              "\n",
              "      <script>\n",
              "        const buttonEl =\n",
              "          document.querySelector('#df-1f7bd4e4-bb67-4843-94e5-76202748d5c8 button.colab-df-convert');\n",
              "        buttonEl.style.display =\n",
              "          google.colab.kernel.accessAllowed ? 'block' : 'none';\n",
              "\n",
              "        async function convertToInteractive(key) {\n",
              "          const element = document.querySelector('#df-1f7bd4e4-bb67-4843-94e5-76202748d5c8');\n",
              "          const dataTable =\n",
              "            await google.colab.kernel.invokeFunction('convertToInteractive',\n",
              "                                                     [key], {});\n",
              "          if (!dataTable) return;\n",
              "\n",
              "          const docLinkHtml = 'Like what you see? Visit the ' +\n",
              "            '<a target=\"_blank\" href=https://colab.research.google.com/notebooks/data_table.ipynb>data table notebook</a>'\n",
              "            + ' to learn more about interactive tables.';\n",
              "          element.innerHTML = '';\n",
              "          dataTable['output_type'] = 'display_data';\n",
              "          await google.colab.output.renderOutput(dataTable, element);\n",
              "          const docLink = document.createElement('div');\n",
              "          docLink.innerHTML = docLinkHtml;\n",
              "          element.appendChild(docLink);\n",
              "        }\n",
              "      </script>\n",
              "    </div>\n",
              "  </div>\n",
              "  "
            ]
          },
          "metadata": {},
          "execution_count": 34
        }
      ]
    },
    {
      "cell_type": "markdown",
      "source": [
        "Vamos criar transformadores personalizados e um pipeline para automatizar a preparação de dados.\n",
        "\n",
        "As próximas etapas apenas preparam os dados de forma automática, o que vai nos poupar tempo futuramente(lembre-se que estamos trabalhando apenas com o conjunto de treinamento agora)."
      ],
      "metadata": {
        "id": "2DhkE1ukIdjs"
      }
    },
    {
      "cell_type": "code",
      "source": [
        "#Criando um transformador personalizado.\n",
        "\n",
        "from sklearn.preprocessing import FunctionTransformer\n",
        "\n",
        "def add_extra_features(X):\n",
        "    condo_per_size = X[:, 0] / X[:, 1]\n",
        "    rooms_per_size = X[:, 2] / X[:, 1]\n",
        "    toilets_per_size = X[:, 3] / X[:, 1]\n",
        "    toilets_per_room = X[:, 3] / X[:, 2]\n",
        "\n",
        "    return np.c_[X, condo_per_size, rooms_per_size, toilets_per_size, toilets_per_room]\n",
        "\n",
        "\n",
        "attr_adder = FunctionTransformer(add_extra_features, validate=False)\n",
        "housing_extra_attribs = attr_adder.fit_transform(housing.values)"
      ],
      "metadata": {
        "id": "lC1PAGxEIweK"
      },
      "execution_count": null,
      "outputs": []
    },
    {
      "cell_type": "code",
      "source": [
        "housing_extra_attribs"
      ],
      "metadata": {
        "colab": {
          "base_uri": "https://localhost:8080/"
        },
        "id": "wfMnItzDIxvk",
        "outputId": "f86f7f66-5e52-44ff-a530-e3f8aee31541"
      },
      "execution_count": null,
      "outputs": [
        {
          "output_type": "execute_result",
          "data": {
            "text/plain": [
              "array([[470, 65, 2, ..., 0.03076923076923077, 0.015384615384615385, 0.5],\n",
              "       [800, 110, 3, ..., 0.02727272727272727, 0.02727272727272727, 1.0],\n",
              "       [620, 49, 1, ..., 0.02040816326530612, 0.04081632653061224, 2.0],\n",
              "       ...,\n",
              "       [0, 42, 2, ..., 0.047619047619047616, 0.047619047619047616, 1.0],\n",
              "       [687, 84, 3, ..., 0.03571428571428571, 0.023809523809523808,\n",
              "        0.6666666666666666],\n",
              "       [3500, 280, 3, ..., 0.010714285714285714, 0.014285714285714285,\n",
              "        1.3333333333333333]], dtype=object)"
            ]
          },
          "metadata": {},
          "execution_count": 36
        }
      ]
    },
    {
      "cell_type": "markdown",
      "source": [
        "**Manipulando atributos categóricos**"
      ],
      "metadata": {
        "id": "Kcp0BEya65Zb"
      }
    },
    {
      "cell_type": "markdown",
      "source": [
        "A maioria dos algoritmos de Aprendizado de Máquina tem preferência por trabalhar com atributos numéricos.\n",
        "\n",
        "O único atributo categórico que restou foi o Distrito, o qual é referenciado indiretamente pela Latitude e Longitude. Dessa maneira, acredito que descartar o atributo Distrito não afetaria o desempenho do algoritmo de aprendizado de máquina selecionado.\n",
        "\n",
        "Para impedir que o modelo faça relações com os números transformados das categorias, utiliza-se a estratégia de não utilizar base decimal, mas sim a binária(one-hot encoding)\n",
        "\n",
        "Poderíamos codificar os Distritos e transformá-los em números, contudo, ao utilizar one-hot enconding, um atributo categórico com muitas categorias, como os Distritos, resultará em um grande número de características de entrada, o que pode diminuir o treinamento e degradar o desempenho. Uma solução seria produzir representações mais densas(embeddings), o que é mais complicado. Portanto, para deixar a análise mais simples, vamos prosseguir apenas descartando \"District\"."
      ],
      "metadata": {
        "id": "WZyPaNTY660v"
      }
    },
    {
      "cell_type": "code",
      "source": [
        "#Criando um transformador personalizado.\n",
        "\n",
        "def remove_district_feature(X):\n",
        "    X = np.delete(X, 9, axis=1)\n",
        "\n",
        "    return X\n",
        "\n",
        "\n",
        "attr_district_remover = FunctionTransformer(remove_district_feature, validate=False)\n",
        "housing_minus_district = attr_district_remover.fit_transform(housing.values)"
      ],
      "metadata": {
        "id": "nWCPUA6pJADe"
      },
      "execution_count": null,
      "outputs": []
    },
    {
      "cell_type": "code",
      "source": [
        "housing_minus_district"
      ],
      "metadata": {
        "colab": {
          "base_uri": "https://localhost:8080/"
        },
        "id": "gU0bDubFZVez",
        "outputId": "44e89ad9-1395-4101-8305-92ec41e39427"
      },
      "execution_count": null,
      "outputs": [
        {
          "output_type": "execute_result",
          "data": {
            "text/plain": [
              "array([[470, 65, 2, ..., 0, -23.541412, -46.6461561],\n",
              "       [800, 110, 3, ..., 1, -23.629488, -46.694142],\n",
              "       [620, 49, 1, ..., 0, -23.6206548, -46.677333],\n",
              "       ...,\n",
              "       [0, 42, 2, ..., 1, -23.617328, -46.759936],\n",
              "       [687, 84, 3, ..., 1, -23.6113708, -46.6317321],\n",
              "       [3500, 280, 3, ..., 1, -23.5520102, -46.7101279]], dtype=object)"
            ]
          },
          "metadata": {},
          "execution_count": 38
        }
      ]
    },
    {
      "cell_type": "markdown",
      "source": [
        "**Criando um pipeline.**"
      ],
      "metadata": {
        "id": "WzhO36leKVWs"
      }
    },
    {
      "cell_type": "code",
      "source": [
        "from sklearn.pipeline import Pipeline\n",
        "from sklearn.preprocessing import StandardScaler\n",
        "\n",
        "num_pipeline = Pipeline([\n",
        "        ('district_remover', FunctionTransformer(remove_district_feature, validate=False)),\n",
        "        ('attribs_adder', FunctionTransformer(add_extra_features, validate=False)),\n",
        "        ('std_scaler', StandardScaler()),\n",
        "    ])\n",
        "\n",
        "housing_prepared = num_pipeline.fit_transform(housing.values)"
      ],
      "metadata": {
        "id": "y9XOBeElKXOw"
      },
      "execution_count": null,
      "outputs": []
    },
    {
      "cell_type": "markdown",
      "source": [
        "**Escalonamento das Características.**\n",
        "\n",
        "No pipeline acima, aproveitei para aplicar uma das transformações mais importantes que precisamos aplicar, o Escalonamento das Características.\n",
        "\n",
        "Os algoritmos de Aprendizado de Máquina, em geral, não funcionam bem quando os atributos numéricos têm escalas muito diferentes. Por exemplo, o preço do aluguel atinge valores superiores a 20.000, enquanto a quantidade de banheiros dificilmente passa de 5. Essa diferença entre as escalas pode fazer com que uma característica domine outra, fazendo com que o modelo negligencie a outra.\n",
        "\n",
        "Essa transformação é aplicada pelo transformador fornecido do Scikit-Lean chamado StandardScaler().\n",
        "\n",
        "Vale acrescentar que existem varias estratégias para realizar esse escalonamento."
      ],
      "metadata": {
        "id": "X3AmsKGvKpPc"
      }
    },
    {
      "cell_type": "code",
      "source": [
        "housing_prepared"
      ],
      "metadata": {
        "colab": {
          "base_uri": "https://localhost:8080/"
        },
        "id": "t6hzHfT_K3is",
        "outputId": "50561451-2be5-49ba-e401-3e49d1074fdb"
      },
      "execution_count": null,
      "outputs": [
        {
          "output_type": "execute_result",
          "data": {
            "text/plain": [
              "array([[-0.42377661, -0.38520213, -0.36723807, ...,  0.08221844,\n",
              "        -1.09327585, -1.10875613],\n",
              "       [-0.03147314,  0.32080188,  0.83990833, ..., -0.27027189,\n",
              "        -0.00522206,  0.04861807],\n",
              "       [-0.24545685, -0.63622578, -1.57438446, ..., -0.96230392,\n",
              "         1.23434942,  2.36336646],\n",
              "       ...,\n",
              "       [-0.98251186, -0.74604862, -0.36723807, ...,  1.7808861 ,\n",
              "         1.85696524,  0.04861807],\n",
              "       [-0.16580736, -0.08711154,  0.83990833, ...,  0.58074047,\n",
              "        -0.32219011, -0.72296473],\n",
              "       [ 3.17828253,  2.98792815,  0.83990833, ..., -1.93956536,\n",
              "        -1.19385226,  0.82020087]])"
            ]
          },
          "metadata": {},
          "execution_count": 40
        }
      ]
    },
    {
      "cell_type": "code",
      "source": [
        "housing_prepared.shape"
      ],
      "metadata": {
        "colab": {
          "base_uri": "https://localhost:8080/"
        },
        "id": "lXnhSQyxK5DZ",
        "outputId": "1ddc91b5-eb71-47b3-d2a6-1d50135487ad"
      },
      "execution_count": null,
      "outputs": [
        {
          "output_type": "execute_result",
          "data": {
            "text/plain": [
              "(5782, 15)"
            ]
          },
          "metadata": {},
          "execution_count": 41
        }
      ]
    },
    {
      "cell_type": "markdown",
      "source": [
        "Perfeito, finalmente estamos prontos para selecionar e treinar um modelo de Aprendizado de Máquina!"
      ],
      "metadata": {
        "id": "WmQM9ZVKK66f"
      }
    },
    {
      "cell_type": "markdown",
      "source": [
        "#Selecionando e treinando modelos\n",
        "\n",
        "Graças a todas essas etapas anteriores, tudo vai ser muito mais simples agora."
      ],
      "metadata": {
        "id": "6QDD1fyZfqBK"
      }
    },
    {
      "cell_type": "markdown",
      "source": [
        "**Regressão Linear**\n"
      ],
      "metadata": {
        "id": "D4hAhvFsfsc4"
      }
    },
    {
      "cell_type": "code",
      "source": [
        "from sklearn.linear_model import LinearRegression\n",
        "\n",
        "lin_reg = LinearRegression()\n",
        "lin_reg.fit(housing_prepared, housing_labels)"
      ],
      "metadata": {
        "colab": {
          "base_uri": "https://localhost:8080/"
        },
        "id": "giWduT74ioea",
        "outputId": "06e3d8c7-3a89-471e-de11-bc41c65b1a29"
      },
      "execution_count": null,
      "outputs": [
        {
          "output_type": "execute_result",
          "data": {
            "text/plain": [
              "LinearRegression()"
            ]
          },
          "metadata": {},
          "execution_count": 42
        }
      ]
    },
    {
      "cell_type": "markdown",
      "source": [
        "Feito! Vamos tentar em algumas intâncias do conjunto de treinamento."
      ],
      "metadata": {
        "id": "pLf5hEloit_V"
      }
    },
    {
      "cell_type": "code",
      "source": [
        "some_data = housing.iloc[:5]\n",
        "some_labels = housing_labels.iloc[:5]\n",
        "some_data_prepared = num_pipeline.transform(some_data.values)\n",
        "\n",
        "print(\"Predictions:\", lin_reg.predict(some_data_prepared))"
      ],
      "metadata": {
        "colab": {
          "base_uri": "https://localhost:8080/"
        },
        "id": "U4Gj3Vctivhm",
        "outputId": "5cc30040-62d6-4d39-853f-76a2bae1d3b0"
      },
      "execution_count": null,
      "outputs": [
        {
          "output_type": "stream",
          "name": "stdout",
          "text": [
            "Predictions: [1100.83670362 3447.04636686 2140.03829492 2752.25314992 4179.05304149]\n"
          ]
        }
      ]
    },
    {
      "cell_type": "code",
      "source": [
        "#Comparando com os valores reais.\n",
        "print(\"Labels:\", list(some_labels))"
      ],
      "metadata": {
        "colab": {
          "base_uri": "https://localhost:8080/"
        },
        "id": "YfiGhzFTixZB",
        "outputId": "99f0221c-a697-4f4e-de24-fdbf0f4a4acb"
      },
      "execution_count": null,
      "outputs": [
        {
          "output_type": "stream",
          "name": "stdout",
          "text": [
            "Labels: [1550, 4500, 3500, 2500, 6500]\n"
          ]
        }
      ]
    },
    {
      "cell_type": "markdown",
      "source": [
        "Parece funcionar, mas eu não diria que as nossas previsões são precisas.\n",
        "\n",
        "Vamos medir a RMSE(uma forma de calcular o erro) desse modelo em todo o conjunto de treinamento."
      ],
      "metadata": {
        "id": "TyFaqkRRi6pA"
      }
    },
    {
      "cell_type": "code",
      "source": [
        "from sklearn.metrics import mean_squared_error\n",
        "\n",
        "housing_predictions = lin_reg.predict(housing_prepared)\n",
        "lin_mse = mean_squared_error(housing_labels, housing_predictions)\n",
        "lin_rmse = np.sqrt(lin_mse)\n",
        "lin_rmse"
      ],
      "metadata": {
        "colab": {
          "base_uri": "https://localhost:8080/"
        },
        "id": "gSBDxWr2l364",
        "outputId": "5fe37527-305a-49ed-9abd-a684a9e4614c"
      },
      "execution_count": null,
      "outputs": [
        {
          "output_type": "execute_result",
          "data": {
            "text/plain": [
              "2133.578661794847"
            ]
          },
          "metadata": {},
          "execution_count": 45
        }
      ]
    },
    {
      "cell_type": "markdown",
      "source": [
        "Okay, funciona, mas um erro de margem típico de 2.133 reais está um pouco acima do aceitável.\n",
        "\n",
        "Vamos tentar um modelo mais complexo."
      ],
      "metadata": {
        "id": "dFz8mSPGtJy8"
      }
    },
    {
      "cell_type": "markdown",
      "source": [
        "**Regressão Polinomial**\n",
        "\n",
        "Vamos tentar um amigo próximo da regressão linear, que é capaz de encontrar relações não lineares"
      ],
      "metadata": {
        "id": "4rI1FANwRkYs"
      }
    },
    {
      "cell_type": "code",
      "source": [
        "from sklearn.preprocessing import PolynomialFeatures\n",
        "\n",
        "#Um grau maior aumenta consideravelmente o sobreajuste, vamos com degree = 4\n",
        "poly_features = PolynomialFeatures(degree = 2, include_bias=False)\n",
        "X_poly = poly_features.fit_transform(housing_prepared)\n",
        "poly_reg = LinearRegression()\n",
        "poly_reg.fit(X_poly, housing_labels)"
      ],
      "metadata": {
        "colab": {
          "base_uri": "https://localhost:8080/"
        },
        "id": "7kTkYRwrSwtp",
        "outputId": "32022ec8-c5f3-4b47-f63e-c98dd281f7d6"
      },
      "execution_count": null,
      "outputs": [
        {
          "output_type": "execute_result",
          "data": {
            "text/plain": [
              "LinearRegression()"
            ]
          },
          "metadata": {},
          "execution_count": 46
        }
      ]
    },
    {
      "cell_type": "code",
      "source": [
        "housing_predictions = poly_reg.predict(X_poly)\n",
        "lin_mse = mean_squared_error(housing_labels, housing_predictions)\n",
        "lin_rmse = np.sqrt(lin_mse)\n",
        "lin_rmse"
      ],
      "metadata": {
        "colab": {
          "base_uri": "https://localhost:8080/"
        },
        "id": "bknWTB00SySV",
        "outputId": "58fd17eb-b6c1-44c2-e0f6-3950b9b5d007"
      },
      "execution_count": null,
      "outputs": [
        {
          "output_type": "execute_result",
          "data": {
            "text/plain": [
              "1962.6062767899618"
            ]
          },
          "metadata": {},
          "execution_count": 47
        }
      ]
    },
    {
      "cell_type": "markdown",
      "source": [
        "Parece muito promissor!"
      ],
      "metadata": {
        "id": "32GAkwnNXmZF"
      }
    },
    {
      "cell_type": "markdown",
      "source": [
        "**Árvore de Decisão**\n",
        "\n",
        "Este é um modelo mais poderoso, pode encontrar relações não lineares complexas nos dados."
      ],
      "metadata": {
        "id": "ov53fPGYtNnK"
      }
    },
    {
      "cell_type": "code",
      "source": [
        "from sklearn.tree import DecisionTreeRegressor\n",
        "\n",
        "tree_reg = DecisionTreeRegressor(random_state=42)\n",
        "tree_reg.fit(housing_prepared, housing_labels)"
      ],
      "metadata": {
        "colab": {
          "base_uri": "https://localhost:8080/"
        },
        "id": "-IkhlFRvtSKe",
        "outputId": "f09ac685-8dda-4c1d-9d8f-3d8b89ce08d4"
      },
      "execution_count": null,
      "outputs": [
        {
          "output_type": "execute_result",
          "data": {
            "text/plain": [
              "DecisionTreeRegressor(random_state=42)"
            ]
          },
          "metadata": {},
          "execution_count": 48
        }
      ]
    },
    {
      "cell_type": "code",
      "source": [
        "housing_predictions = tree_reg.predict(housing_prepared)\n",
        "tree_mse = mean_squared_error(housing_labels, housing_predictions)\n",
        "tree_rmse = np.sqrt(tree_mse)\n",
        "tree_rmse"
      ],
      "metadata": {
        "colab": {
          "base_uri": "https://localhost:8080/"
        },
        "id": "OREn5NSWtUAn",
        "outputId": "98e4726c-e089-493f-f4ef-6172ea81e9d7"
      },
      "execution_count": null,
      "outputs": [
        {
          "output_type": "execute_result",
          "data": {
            "text/plain": [
              "35.38919658896948"
            ]
          },
          "metadata": {},
          "execution_count": 49
        }
      ]
    },
    {
      "cell_type": "markdown",
      "source": [
        "Diminuiu muito! É provável que o modelo tenha se sobreajustado aos dados, isto é, tenha se acostumado muito ao conjunto de treino e, portanto, não vai generalizar bem.\n",
        "\n",
        "Temos que validar o modelo, contudo, como discutimos anteriormente, não podemos utilizar o conjunto de testes ainda, uma solução seria dividir um conjunto de treinamento em um conjunto de treinamento menor e um conjunto de validação assim como fizemos anteriormente, mas isso é um pouco trabalhoso.\n",
        "\n",
        "Uma ótima alternativa é avaliar utilizando o recurso da validação cruzada. Em resumo, o código a seguir vai dividir o conjunto em 10 subconjuntos diferentes, treinar e avaliar o modelo 10 vezes escolhendo um subconjunto cada uma delas para avaliação e treinamento das outras 9 partes."
      ],
      "metadata": {
        "id": "g9nKin87wJq8"
      }
    },
    {
      "cell_type": "code",
      "source": [
        "from sklearn.model_selection import cross_val_score\n",
        "\n",
        "scores = cross_val_score(tree_reg, housing_prepared, housing_labels, scoring=\"neg_mean_squared_error\", cv=10)\n",
        "tree_rmse_scores = np.sqrt(-scores)\n",
        "\n",
        "def display_scores(scores):\n",
        "    print(\"Scores:\", scores)\n",
        "    print(\"Mean:\", scores.mean())\n",
        "    print(\"Standard deviation:\", scores.std())\n",
        "\n",
        "display_scores(tree_rmse_scores)"
      ],
      "metadata": {
        "colab": {
          "base_uri": "https://localhost:8080/"
        },
        "id": "cswNRiomwhoF",
        "outputId": "0c489825-7523-4b15-b628-3750f63d471d"
      },
      "execution_count": null,
      "outputs": [
        {
          "output_type": "stream",
          "name": "stdout",
          "text": [
            "Scores: [2312.60788559 2902.4102783  2757.70901997 2524.18528841 1927.43358553\n",
            " 2578.97322418 3509.40214523 2681.86546174 2699.97155217 3230.54434345]\n",
            "Mean: 2712.5102784575215\n",
            "Standard deviation: 420.97066225348794\n"
          ]
        }
      ]
    },
    {
      "cell_type": "code",
      "source": [
        "#Vamos calcular também para o modelo de Regressão Linear\n",
        "\n",
        "lin_scores = cross_val_score(lin_reg, housing_prepared, housing_labels, scoring=\"neg_mean_squared_error\", cv=10)\n",
        "lin_rmse_scores = np.sqrt(-lin_scores)\n",
        "display_scores(lin_rmse_scores)"
      ],
      "metadata": {
        "colab": {
          "base_uri": "https://localhost:8080/"
        },
        "id": "qxWpmgnrwj8K",
        "outputId": "f46cc3da-1a33-403c-9b20-eca3ebfae538"
      },
      "execution_count": null,
      "outputs": [
        {
          "output_type": "stream",
          "name": "stdout",
          "text": [
            "Scores: [1662.17866702 1990.71532713 2384.65540176 1811.57186145 1785.96778617\n",
            " 2105.15707685 3281.2695035  1913.40269175 2114.68285232 2187.96697037]\n",
            "Mean: 2123.756813832423\n",
            "Standard deviation: 435.7773608508077\n"
          ]
        }
      ]
    },
    {
      "cell_type": "markdown",
      "source": [
        "O modelo mais complexo, a Árvore de Decisão, é pior que o modelo de Regressão Linear!\n",
        "\n",
        "O que está acontecendo aqui é que o modelo da Árvore de Decisão está se sobreajustando tanto que acaba sendo pior."
      ],
      "metadata": {
        "id": "KP7B7qhDwnmm"
      }
    },
    {
      "cell_type": "code",
      "source": [
        "#Vamos calcular também para o modelo de Regressão Polinomial\n",
        "\n",
        "lin_scores = cross_val_score(poly_reg, X_poly, housing_labels, scoring=\"neg_mean_squared_error\", cv=10)\n",
        "lin_rmse_scores = np.sqrt(-lin_scores)\n",
        "display_scores(lin_rmse_scores)"
      ],
      "metadata": {
        "colab": {
          "base_uri": "https://localhost:8080/"
        },
        "id": "rR8h-va_Usuu",
        "outputId": "6a316397-5428-4b53-87bd-11621295319b"
      },
      "execution_count": null,
      "outputs": [
        {
          "output_type": "stream",
          "name": "stdout",
          "text": [
            "Scores: [2969.1071279  3798.68623651 2545.06196099 6056.84323526 2288.21263813\n",
            " 7127.84889833 5156.16687726 2259.44541552 4092.90957633 4210.2844116 ]\n",
            "Mean: 4050.4566377836927\n",
            "Standard deviation: 1567.0997399562523\n"
          ]
        }
      ]
    },
    {
      "cell_type": "markdown",
      "source": [
        "\n",
        "Vamos tentar outro modelo."
      ],
      "metadata": {
        "id": "jiKa5dspZ00P"
      }
    },
    {
      "cell_type": "markdown",
      "source": [
        "**Florestas Aleatórias**\n",
        "\n",
        "Vamos tentar um modelo ainda mais poderoso, este funciona com o treinamento de muitas Árvores de Decisão e, em seguida, calcula a média das suas previsões."
      ],
      "metadata": {
        "id": "bjbHGvdAwr1G"
      }
    },
    {
      "cell_type": "code",
      "source": [
        "from sklearn.ensemble import RandomForestRegressor\n",
        "\n",
        "forest_reg = RandomForestRegressor(n_estimators=10, random_state=42)\n",
        "forest_reg.fit(housing_prepared, housing_labels)"
      ],
      "metadata": {
        "colab": {
          "base_uri": "https://localhost:8080/"
        },
        "id": "UZN5P3wcxtOY",
        "outputId": "4df8c834-fe0e-4958-a767-56bcb583c280"
      },
      "execution_count": null,
      "outputs": [
        {
          "output_type": "execute_result",
          "data": {
            "text/plain": [
              "RandomForestRegressor(n_estimators=10, random_state=42)"
            ]
          },
          "metadata": {},
          "execution_count": 53
        }
      ]
    },
    {
      "cell_type": "code",
      "source": [
        "housing_predictions = forest_reg.predict(housing_prepared)\n",
        "forest_mse = mean_squared_error(housing_labels, housing_predictions)\n",
        "forest_rmse = np.sqrt(forest_mse)\n",
        "forest_rmse"
      ],
      "metadata": {
        "colab": {
          "base_uri": "https://localhost:8080/"
        },
        "id": "8IFMcpwnxuhV",
        "outputId": "ffee10cd-f611-40b9-e1fe-d7d1ac4a0a13"
      },
      "execution_count": null,
      "outputs": [
        {
          "output_type": "execute_result",
          "data": {
            "text/plain": [
              "823.6371495301679"
            ]
          },
          "metadata": {},
          "execution_count": 54
        }
      ]
    },
    {
      "cell_type": "markdown",
      "source": [
        "Parece promissor! Vamos utilizar a validação cruzada novamente."
      ],
      "metadata": {
        "id": "RL8Rm3zoG1EB"
      }
    },
    {
      "cell_type": "code",
      "source": [
        "forest_scores = cross_val_score(forest_reg, housing_prepared, housing_labels, scoring=\"neg_mean_squared_error\", cv=10)\n",
        "forest_rmse_scores = np.sqrt(-forest_scores)\n",
        "display_scores(forest_rmse_scores)"
      ],
      "metadata": {
        "colab": {
          "base_uri": "https://localhost:8080/"
        },
        "id": "Dh9QHha9G4gt",
        "outputId": "fca65534-a964-48c7-d721-b88b028e355f"
      },
      "execution_count": null,
      "outputs": [
        {
          "output_type": "stream",
          "name": "stdout",
          "text": [
            "Scores: [1479.63098005 1846.92520625 2037.99960513 1594.19191303 1376.47473304\n",
            " 1687.69969323 3084.70228085 2014.38017485 1817.10033276 1870.84261659]\n",
            "Mean: 1880.9947535762763\n",
            "Standard deviation: 450.77183604611474\n"
          ]
        }
      ]
    },
    {
      "cell_type": "markdown",
      "source": [
        "As Florestas Aleatórias parecem promissoras, contudo, como podemos ver, a pontuação do conjunto de treinamento é menor do que nos conjuntos de validação, isto signifca que o modelo se sobreajustando ao conjunto de treinamento."
      ],
      "metadata": {
        "id": "lqNNvulhG_oQ"
      }
    },
    {
      "cell_type": "markdown",
      "source": [
        "# Ajustando o Modelo\n",
        "\n",
        "Agora que temos uma lista de modelos precisamos ajustar os mais promissores."
      ],
      "metadata": {
        "id": "Bc-eOOCyd4hf"
      }
    },
    {
      "cell_type": "markdown",
      "source": [
        "Nesta etapa, vamos trabalhar apenas com RandomForestRegressor, já que o tempo de execução pode ser bem grande."
      ],
      "metadata": {
        "id": "_V2EyqkFpVD-"
      }
    },
    {
      "cell_type": "markdown",
      "source": [
        "**Grid Search**\n",
        "\n",
        "Esta é uma técnica para alterar os hiperparâmetros, de forma automizada, até encontrar uma ótima combinação de valores. Neste contexto, Grid Search testará todas as combinações a partir de um grid de hiperparâmetros pré-definido."
      ],
      "metadata": {
        "id": "uhWdB95UgqJT"
      }
    },
    {
      "cell_type": "code",
      "source": [
        "from sklearn.model_selection import GridSearchCV\n",
        "\n",
        "param_grid = [\n",
        "    {'n_estimators': [3, 10, 30, 40, 50], 'max_features': [2, 4, 6, 8, 10, 12, 15]},\n",
        "    {'bootstrap': [False], 'n_estimators': [3, 10], 'max_features': [2, 3, 4]},\n",
        "  ]\n",
        "\n",
        "forest_reg = RandomForestRegressor(random_state=42)\n",
        "grid_search = GridSearchCV(forest_reg, param_grid, cv=5, scoring='neg_mean_squared_error', return_train_score=True)\n",
        "grid_search.fit(housing_prepared, housing_labels)\n",
        "\n",
        "final_forest_reg_grid = grid_search.best_estimator_"
      ],
      "metadata": {
        "id": "kEs7avRKhluE"
      },
      "execution_count": null,
      "outputs": []
    },
    {
      "cell_type": "markdown",
      "source": [
        "**Randomized Search**\n",
        "\n",
        "Esta classe pode ser utilizada da mesma for que GridSearch, mas, ao invés de tenta um conjunto pré-definido de valores, ela seleciona um valor aleatório para cade hiperparâmetro em cada iteração. "
      ],
      "metadata": {
        "id": "ZWxE65YXpmUJ"
      }
    },
    {
      "cell_type": "code",
      "source": [
        "from sklearn.model_selection import RandomizedSearchCV\n",
        "from scipy.stats import randint\n",
        "\n",
        "param_distribs = {\n",
        "        'n_estimators': randint(low=1, high=200),\n",
        "        'max_features': randint(low=1, high=8),\n",
        "    }\n",
        "\n",
        "forest_reg = RandomForestRegressor(random_state=42)\n",
        "rnd_search = RandomizedSearchCV(forest_reg, param_distributions=param_distribs, n_iter=10, cv=5, scoring='neg_mean_squared_error', random_state=42)\n",
        "rnd_search.fit(housing_prepared, housing_labels)\n",
        "\n",
        "final_forest_reg_rand = rnd_search.best_estimator_"
      ],
      "metadata": {
        "id": "zXOsZeAQqagk"
      },
      "execution_count": null,
      "outputs": []
    },
    {
      "cell_type": "markdown",
      "source": [
        "# Avaliando os Modelos no Conjunto de Testes\n",
        "\n",
        "Finalmente chegou a hora de colocar as mãos no conjunto de testes!"
      ],
      "metadata": {
        "id": "obMcdtp-rWHh"
      }
    },
    {
      "cell_type": "code",
      "source": [
        "X_test = strat_test_set.drop(\"Price\", axis=1)\n",
        "y_test = strat_test_set[\"Price\"].copy()\n",
        "\n",
        "X_test_prepared = num_pipeline.transform(X_test.values)"
      ],
      "metadata": {
        "id": "YZxGfkMxrpwk"
      },
      "execution_count": null,
      "outputs": []
    },
    {
      "cell_type": "markdown",
      "source": [
        "**Regressão Polinomial**"
      ],
      "metadata": {
        "id": "pDrakrlGrtJA"
      }
    },
    {
      "cell_type": "code",
      "source": [
        "final_poly_reg = poly_reg\n",
        "\n",
        "X_test_prepared_poly = poly_features.fit_transform(X_test_prepared)"
      ],
      "metadata": {
        "id": "hK84V5Xarwv1"
      },
      "execution_count": null,
      "outputs": []
    },
    {
      "cell_type": "code",
      "source": [
        "final_predictions = poly_reg.predict(X_test_prepared_poly)\n",
        "\n",
        "mse_poly_reg = mean_squared_error(final_predictions, y_test)\n",
        "rmse_poly_reg = np.sqrt(mse_poly_reg)"
      ],
      "metadata": {
        "id": "eoQQ9FKXr_5U"
      },
      "execution_count": null,
      "outputs": []
    },
    {
      "cell_type": "code",
      "source": [
        "rmse_poly_reg"
      ],
      "metadata": {
        "colab": {
          "base_uri": "https://localhost:8080/"
        },
        "id": "Q09z-SD_tn7k",
        "outputId": "a59c057b-55cc-4014-8c72-88c228ca51bc"
      },
      "execution_count": null,
      "outputs": [
        {
          "output_type": "execute_result",
          "data": {
            "text/plain": [
              "2188.5226976750523"
            ]
          },
          "metadata": {},
          "execution_count": 61
        }
      ]
    },
    {
      "cell_type": "markdown",
      "source": [
        "**Florestas Aleatórias - Grid**"
      ],
      "metadata": {
        "id": "v05LvsYvsDe8"
      }
    },
    {
      "cell_type": "code",
      "source": [
        "final_predictions = final_forest_reg_grid.predict(X_test_prepared)\n",
        "\n",
        "mse_forest_grid = mean_squared_error(y_test, final_predictions)\n",
        "rmse_forest_grid = np.sqrt(mse_forest_grid)"
      ],
      "metadata": {
        "id": "AvT7IdWysOpL"
      },
      "execution_count": null,
      "outputs": []
    },
    {
      "cell_type": "code",
      "source": [
        "rmse_forest_grid"
      ],
      "metadata": {
        "colab": {
          "base_uri": "https://localhost:8080/"
        },
        "id": "RkmT_1nJtsey",
        "outputId": "6aab413f-e58d-4f23-8f07-cafd85e2997f"
      },
      "execution_count": null,
      "outputs": [
        {
          "output_type": "execute_result",
          "data": {
            "text/plain": [
              "1811.789494849219"
            ]
          },
          "metadata": {},
          "execution_count": 63
        }
      ]
    },
    {
      "cell_type": "markdown",
      "source": [
        "**Florestas Aleatórias - Randomized**"
      ],
      "metadata": {
        "id": "2l35BQpWsbwv"
      }
    },
    {
      "cell_type": "code",
      "source": [
        "final_predictions = final_forest_reg_rand.predict(X_test_prepared)\n",
        "\n",
        "mse_forest_rand = mean_squared_error(y_test, final_predictions)\n",
        "rmse_forest_rand = np.sqrt(mse_forest_rand)"
      ],
      "metadata": {
        "id": "e1EHgGkpsbwv"
      },
      "execution_count": null,
      "outputs": []
    },
    {
      "cell_type": "code",
      "source": [
        "rmse_forest_rand"
      ],
      "metadata": {
        "colab": {
          "base_uri": "https://localhost:8080/"
        },
        "id": "F0bwjst-ty7h",
        "outputId": "7d4b1cc3-f00e-4c62-d4c4-77ec8a86f4d3"
      },
      "execution_count": null,
      "outputs": [
        {
          "output_type": "execute_result",
          "data": {
            "text/plain": [
              "1851.046430237655"
            ]
          },
          "metadata": {},
          "execution_count": 65
        }
      ]
    },
    {
      "cell_type": "markdown",
      "source": [
        "# Considerações Finais\n",
        "\n",
        "Conseguimos alguns modelos bastante promissores. Contudo, a maioria deles parece ter se sobreajsutado muito ao dados de treinamento, o que era esperado dado a poquissíma quantidade de dados que havíamos conseguido.\n",
        "\n",
        "Com apenas um pouco mais de 5000 mil instâncias de dados, foi possível desenvolver um modelo, a Floresta Aleatória, que consegue prever o valor de aluguel com um erro médio de apenas 1851."
      ],
      "metadata": {
        "id": "PCBEZaWXOsq0"
      }
    },
    {
      "cell_type": "code",
      "source": [
        "final_model = final_forest_reg_grid\n",
        "\n",
        "final_predictions = final_model.predict(X_test_prepared)"
      ],
      "metadata": {
        "id": "fivTuSQuVML2"
      },
      "execution_count": null,
      "outputs": []
    },
    {
      "cell_type": "markdown",
      "source": [
        "Vamos dar uma olhada nas primeiras 10 predição e comparar com os dados reais."
      ],
      "metadata": {
        "id": "GyAp8N_-pUS-"
      }
    },
    {
      "cell_type": "markdown",
      "source": [
        "**Predição**"
      ],
      "metadata": {
        "id": "lElnEMM-pffj"
      }
    },
    {
      "cell_type": "code",
      "source": [
        "final_predictions[:11]"
      ],
      "metadata": {
        "colab": {
          "base_uri": "https://localhost:8080/"
        },
        "id": "HDyjmAGfoWE2",
        "outputId": "d12b687f-130c-4bb9-eeab-422cb025cb39"
      },
      "execution_count": null,
      "outputs": [
        {
          "output_type": "execute_result",
          "data": {
            "text/plain": [
              "array([1394.6 , 2067.6 , 4819.  , 1785.8 , 1368.6 , 1527.18, 2670.44,\n",
              "       1372.72, 1721.1 , 1299.36, 1452.9 ])"
            ]
          },
          "metadata": {},
          "execution_count": 67
        }
      ]
    },
    {
      "cell_type": "markdown",
      "source": [
        "**Real**"
      ],
      "metadata": {
        "id": "zi-QsGxrpoGZ"
      }
    },
    {
      "cell_type": "code",
      "source": [
        "y_test.iloc[:10]"
      ],
      "metadata": {
        "colab": {
          "base_uri": "https://localhost:8080/"
        },
        "id": "rcuYxuxjosa6",
        "outputId": "c1a60d90-b419-453f-fec3-4b2760d7b9b9"
      },
      "execution_count": null,
      "outputs": [
        {
          "output_type": "execute_result",
          "data": {
            "text/plain": [
              "3699     1700\n",
              "3171     1500\n",
              "9974     3400\n",
              "3941     1300\n",
              "4327     1450\n",
              "2736     1500\n",
              "3438     3100\n",
              "4598     1200\n",
              "10199    1600\n",
              "261      1200\n",
              "Name: Price, dtype: int64"
            ]
          },
          "metadata": {},
          "execution_count": 68
        }
      ]
    },
    {
      "cell_type": "code",
      "source": [
        "ax = plt.scatter(final_predictions, y_test, alpha=0.3)\n",
        "plt.xlim(0, 15000)\n",
        "plt.ylim(0, 15000)\n",
        "plt.xlabel('Pred') \n",
        "plt.ylabel('Real')"
      ],
      "metadata": {
        "colab": {
          "base_uri": "https://localhost:8080/",
          "height": 303
        },
        "id": "QRPT9NJLqOCJ",
        "outputId": "e85ae851-b2b0-432a-a458-681cea081f5d"
      },
      "execution_count": null,
      "outputs": [
        {
          "output_type": "execute_result",
          "data": {
            "text/plain": [
              "Text(0, 0.5, 'Real')"
            ]
          },
          "metadata": {},
          "execution_count": 71
        },
        {
          "output_type": "display_data",
          "data": {
            "text/plain": [
              "<Figure size 432x288 with 1 Axes>"
            ],
            "image/png": "[encoded data removed]"
          },
          "metadata": {
            "needs_background": "light"
          }
        }
      ]
    }
  ]
}